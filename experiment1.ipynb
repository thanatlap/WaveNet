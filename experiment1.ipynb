{
 "cells": [
  {
   "cell_type": "markdown",
   "metadata": {},
   "source": [
    "# Implementation of WaveNet\n",
    "Create: 04/04/2019 </br>\n",
    "Todo:\n",
    "- WaveNet with dilated causal convolutions "
   ]
  },
  {
   "cell_type": "code",
   "execution_count": 1,
   "metadata": {},
   "outputs": [],
   "source": [
    "from __future__ import with_statement, print_function, absolute_import\n",
    "import tensorflow as tf\n",
    "import numpy as np\n",
    "import librosa\n",
    "import os\n",
    "from glob import glob"
   ]
  },
  {
   "cell_type": "markdown",
   "metadata": {},
   "source": [
    "## 1. Read audio"
   ]
  },
  {
   "cell_type": "code",
   "execution_count": 7,
   "metadata": {},
   "outputs": [],
   "source": [
    "DATA_DIR = 'D:\\\\datasets\\\\VCTK-Corpus\\\\wav48\\\\p225'\n",
    "\n",
    "sound_file = glob(DATA_DIR + '\\\\*.wav')"
   ]
  },
  {
   "cell_type": "markdown",
   "metadata": {},
   "source": [
    "## 2. Preprocessing "
   ]
  },
  {
   "cell_type": "code",
   "execution_count": null,
   "metadata": {},
   "outputs": [],
   "source": [
    "SAMPLING_BIT = 24 # VCTK Corpus\n",
    "\n",
    "def normalize_audio(audio):\n",
    "    return audio/(2**SAMPLING_BIT)\n",
    "\n",
    "def mu_law(audio, mu=255):\n",
    "    return np.sign(audio)*np.log(1+mu*np.absolute)/np.log(1+mu)\n",
    "\n",
    "def quantize(audio):\n",
    "    \n"
   ]
  }
 ],
 "metadata": {
  "kernelspec": {
   "display_name": "Python 3",
   "language": "python",
   "name": "python3"
  },
  "language_info": {
   "codemirror_mode": {
    "name": "ipython",
    "version": 3
   },
   "file_extension": ".py",
   "mimetype": "text/x-python",
   "name": "python",
   "nbconvert_exporter": "python",
   "pygments_lexer": "ipython3",
   "version": "3.6.8"
  }
 },
 "nbformat": 4,
 "nbformat_minor": 2
}
